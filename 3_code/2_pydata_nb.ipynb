{
 "cells": [
  {
   "cell_type": "code",
   "execution_count": null,
   "metadata": {},
   "outputs": [],
   "source": [
    "# system\n",
    "import os\n",
    "import sys\n",
    "import glob\n",
    "from pathlib import Path\n",
    "\n",
    "# pyscience imports\n",
    "import numpy as np\n",
    "import pandas as pd\n",
    "import statsmodels.api as sm\n",
    "import statsmodels.formula.api as smf\n",
    "\n",
    "# viz\n",
    "import matplotlib.pyplot as plt\n",
    "import seaborn as sns\n",
    "from plotnine import *\n",
    "# plt.style.use(\"seaborn-darkgrid\")\n",
    "# plt.style.use(\"dark_background\")\n",
    "sns.set(style=\"ticks\", context=\"talk\")\n",
    "font = {'family' : 'IBM Plex Sans',\n",
    "               'weight' : 'normal',\n",
    "               'size'   : 10}\n",
    "plt.rc('font', **font)\n",
    "\n",
    "\n",
    "# geodata packages\n",
    "import geopandas as gpd\n",
    "import geoplot as gplt\n",
    "# raster packages\n",
    "import rasterio as rio\n",
    "from rasterstats import zonal_stats\n",
    "\n",
    "# show all output\n",
    "from IPython.core.interactiveshell import InteractiveShell\n",
    "InteractiveShell.ast_node_interactivity = 'all'\n",
    "#%%\n"
   ]
  }
 ],
 "metadata": {
  "kernelspec": {
   "display_name": "Python 3",
   "language": "python",
   "name": "python3"
  },
  "language_info": {
   "codemirror_mode": {
    "name": "ipython",
    "version": 3
   },
   "file_extension": ".py",
   "mimetype": "text/x-python",
   "name": "python",
   "nbconvert_exporter": "python",
   "pygments_lexer": "ipython3",
   "version": "3.7.6"
  }
 },
 "nbformat": 4,
 "nbformat_minor": 4
}
