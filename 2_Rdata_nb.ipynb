{
 "cells": [
  {
   "cell_type": "code",
   "execution_count": null,
   "metadata": {},
   "outputs": [],
   "source": [
    "rm(list = ls())\n",
    "library(LalRUtils)\n",
    "libreq(data.table, magrittr, tidyverse, janitor, stargazer2, knitr)\n",
    "theme_set(lal_plot_theme_d())\n",
    "set.seed(42)\n",
    "options(repr.plot.width = 15, repr.plot.height=12)"
   ]
  }
 ],
 "metadata": {
  "kernelspec": {
   "display_name": "R",
   "language": "R",
   "name": "ir"
  },
  "language_info": {
   "codemirror_mode": "r",
   "file_extension": ".r",
   "mimetype": "text/x-r-source",
   "name": "R",
   "pygments_lexer": "r",
   "version": "3.6.3"
  }
 },
 "nbformat": 4,
 "nbformat_minor": 4
}
